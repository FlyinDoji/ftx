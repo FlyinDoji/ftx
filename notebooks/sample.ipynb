{
 "metadata": {
  "language_info": {
   "codemirror_mode": {
    "name": "ipython",
    "version": 3
   },
   "file_extension": ".py",
   "mimetype": "text/x-python",
   "name": "python",
   "nbconvert_exporter": "python",
   "pygments_lexer": "ipython3",
   "version": "3.8.6-final"
  },
  "orig_nbformat": 2,
  "kernelspec": {
   "name": "python3",
   "display_name": "Python 3"
  }
 },
 "nbformat": 4,
 "nbformat_minor": 2,
 "cells": [
  {
   "cell_type": "code",
   "execution_count": 1,
   "metadata": {},
   "outputs": [],
   "source": [
    "# Import client, fetchers and processors\n",
    "from ftx.clients.rest_client import FtxAuth, FtxClient\n",
    "from ftx.data.fetch import fills_history, funding_history, open_positions\n",
    "from ftx.data.process import get_futures_summary, get_spot_summary, get_futures_trades_by_market\n",
    "from tabulate import tabulate\n",
    "import pandas as pd\n",
    "\n",
    "pd.options.display.float_format = \"{:,.2f}\".format"
   ]
  },
  {
   "cell_type": "code",
   "execution_count": 2,
   "metadata": {},
   "outputs": [],
   "source": [
    "key_hodl = 'Your-API-Key' # Your API Key\n",
    "secret_hodl = 'Your-API-Secret' # Your API Secret\n",
    "auth = FtxAuth(key_hodl, secret_hodl, 'Your-Subaccount-Name') # Subaccount name or omit if main account\n",
    "\n",
    "c = FtxClient(auth)\n",
    "# Full fill history\n",
    "spot_fills, futures_fills, futures_by_market, spot_by_market = fills_history(c)\n",
    "# Full funding payments history\n",
    "funding = funding_history(c)\n",
    "# Open positions\n",
    "open_pos = open_positions(c)"
   ]
  },
  {
   "cell_type": "code",
   "execution_count": 32,
   "metadata": {},
   "outputs": [
    {
     "output_type": "stream",
     "name": "stdout",
     "text": [
      "+-----------+------------------+---------------+---------------+--------------+-------------+----------+-----------+----------+-----------+\n|           |           Volume |   TakerVolume |   MakerVolume |   SellVolume |   BuyVolume |     Fees |   Funding |   RawPNL |      RPNL |\n|-----------+------------------+---------------+---------------+--------------+-------------+----------+-----------+----------+-----------|\n| BTC-PERP  | 592157           |     419949    |     172208    |    296861    |   295295    | 287.086  |  -47.8384 |  1565.99 | 1326.74   |\n| ETH-PERP  | 417898           |     355801    |      62097.8  |    210981    |   206917    | 238.472  |  482.743  |  4064.46 | 3343.24   |\n| PAXG-PERP |  18951.8         |      18540.6  |        411.25 |      9489.33 |     9462.51 |  12.4076 |   48.9459 |    26.82 |  -34.5335 |\n| AMPL-PERP |    177.33        |        177.33 |          0    |        98.88 |       78.46 |   0.1179 |  -11.27   |    20.42 |   31.5721 |\n| SOL-PERP  |  13873.8         |      11357.8  |       2516    |      6965.66 |     6908.12 |   7.5529 |    5.762  |    57.54 |   44.2251 |\n| DOT-PERP  |  14752.9         |       5417.27 |       9335.58 |      7633.85 |     7119    |   3.6025 |   24.6309 |   514.85 |  486.617  |\n| UNI-PERP  |   2550.66        |       1250.66 |       1300    |      1250.66 |     1300    |   0.8317 |    0      |   -49.34 |  -50.1717 |\n| TOTAL     |      1.06036e+06 |     812493    |     247869    |    533281    |   527081    | 550.071  |  502.974  |  6200.74 | 5147.7    |\n+-----------+------------------+---------------+---------------+--------------+-------------+----------+-----------+----------+-----------+\n"
     ]
    }
   ],
   "source": [
    "df = get_futures_summary(futures_fills, funding, open_pos)\n",
    "print(tabulate(df, headers='keys', tablefmt='psql'))"
   ]
  },
  {
   "cell_type": "code",
   "execution_count": 33,
   "metadata": {},
   "outputs": [],
   "source": [
    "df = get_spot_summary(spot_fills)\n",
    "print(tabulate(df, headers='keys', tablefmt='psql'))\n"
   ]
  },
  {
   "cell_type": "code",
   "execution_count": 31,
   "metadata": {},
   "outputs": [],
   "source": [
    "tm = get_futures_trades_by_market(futures_by_market, funding)\n",
    "print(tabulate(tm['BTC-PERP'],headers='keys',))"
   ]
  },
  {
   "cell_type": "code",
   "execution_count": null,
   "metadata": {},
   "outputs": [],
   "source": []
  }
 ]
}
