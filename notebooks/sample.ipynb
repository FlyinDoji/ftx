{
 "metadata": {
  "language_info": {
   "codemirror_mode": {
    "name": "ipython",
    "version": 3
   },
   "file_extension": ".py",
   "mimetype": "text/x-python",
   "name": "python",
   "nbconvert_exporter": "python",
   "pygments_lexer": "ipython3",
   "version": "3.8.6-final"
  },
  "orig_nbformat": 2,
  "kernelspec": {
   "name": "python3",
   "display_name": "Python 3"
  }
 },
 "nbformat": 4,
 "nbformat_minor": 2,
 "cells": [
  {
   "cell_type": "code",
   "execution_count": 1,
   "metadata": {},
   "outputs": [],
   "source": [
    "# Import client, fetchers and processors\n",
    "from ftx.clients.rest_client import FtxAuth, FtxClient\n",
    "from ftx.data.fetch import fills_history, funding_history, open_positions\n",
    "from ftx.data.process import get_futures_summary, get_spot_summary, get_futures_trades_by_market\n",
    "from tabulate import tabulate\n",
    "import pandas as pd\n",
    "\n",
    "pd.options.display.float_format = \"{:,.2f}\".format"
   ]
  },
  {
   "cell_type": "code",
   "execution_count": 2,
   "metadata": {},
   "outputs": [],
   "source": [
    "key_hodl = 'Your-API-Key' # Your API Key\n",
    "secret_hodl = 'Your-API-Secret' # Your API Secret\n",
    "auth = FtxAuth(key_hodl, secret_hodl, 'Your-Subaccount-Name') # Subaccount name or omit if main account\n",
    "\n",
    "c = FtxClient(auth)\n",
    "# Full fill history\n",
    "spot_fills, futures_fills, futures_by_market, spot_by_market = fills_history(c)\n",
    "# Full funding payments history\n",
    "funding = funding_history(c)\n",
    "# Open positions\n",
    "open_pos = open_positions(c)"
   ]
  },
  {
   "cell_type": "code",
   "execution_count": 32,
   "metadata": {},
   "outputs": [],
   "source": [
    "df = get_futures_summary(futures_fills, funding, open_pos)\n",
    "print(tabulate(df, headers='keys', tablefmt='psql'))"
   ]
  },
  {
   "cell_type": "code",
   "execution_count": 33,
   "metadata": {},
   "outputs": [],
   "source": [
    "df = get_spot_summary(spot_fills)\n",
    "print(tabulate(df, headers='keys', tablefmt='psql'))\n"
   ]
  },
  {
   "cell_type": "code",
   "execution_count": 31,
   "metadata": {},
   "outputs": [],
   "source": [
    "tm = get_futures_trades_by_market(futures_by_market, funding)\n",
    "print(tabulate(tm['BTC-PERP'],headers='keys',))"
   ]
  },
  {
   "cell_type": "code",
   "execution_count": null,
   "metadata": {},
   "outputs": [],
   "source": []
  }
 ]
}
